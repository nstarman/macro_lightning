{
 "cells": [
  {
   "cell_type": "markdown",
   "metadata": {},
   "source": [
    "# Macro-Induced Lightning Constraints"
   ]
  },
  {
   "cell_type": "code",
   "execution_count": 1,
   "metadata": {
    "collapsed": false,
    "inputHidden": false,
    "jupyter": {
     "outputs_hidden": false
    },
    "outputHidden": false
   },
   "outputs": [],
   "source": [
    "\"\"\"\n",
    "    TITLE   : Macro-Induced Lightning Constraints\n",
    "    AUTHOR  : Jagjit Sidhu, Nathaniel Starkman\n",
    "    PROJECT : https://github.com/nstarman/macro_lightning\n",
    "\"\"\";\n",
    "\n",
    "__author__ = ['Jagjit Sidhu', \"Nathaniel Starkman\"]"
   ]
  },
  {
   "cell_type": "markdown",
   "metadata": {},
   "source": [
    "<span style='font-size:30px;font-weight:650'>\n",
    "    About\n",
    "</span>\n",
    "\n",
    "This notebook contains the calculations for how well macro-induced lightnint on Earth and Jupiter can constrain macro models.\n"
   ]
  },
  {
   "cell_type": "markdown",
   "metadata": {},
   "source": [
    "<br><br>\n",
    "\n",
    "- - - \n"
   ]
  },
  {
   "cell_type": "markdown",
   "metadata": {},
   "source": [
    "## Prepare"
   ]
  },
  {
   "cell_type": "markdown",
   "metadata": {
    "inputHidden": false,
    "outputHidden": false
   },
   "source": [
    "### Imports"
   ]
  },
  {
   "cell_type": "code",
   "execution_count": 89,
   "metadata": {},
   "outputs": [],
   "source": [
    "# BUILT-IN\n",
    "\n",
    "import csv\n",
    "import io\n",
    "import itertools\n",
    "import os\n",
    "import sys\n",
    "\n",
    "\n",
    "# THIRD PARTY\n",
    "\n",
    "from astropy import units as u\n",
    "from astropy.table import QTable\n",
    "from astropy.units import Quantity\n",
    "\n",
    "import matplotlib\n",
    "import matplotlib.pyplot as plt\n",
    "\n",
    "import numpy as np\n",
    "from numpy.linalg import norm\n",
    "\n",
    "import scipy\n",
    "from scipy.interpolate import interp1d\n",
    "\n",
    "import utilipy\n",
    "\n",
    "\n",
    "# PROJECT SPECIFIC\n",
    "\n",
    "sys.path.insert(0, \"../\")\n",
    "import src\n"
   ]
  },
  {
   "cell_type": "markdown",
   "metadata": {},
   "source": [
    "### Parameters"
   ]
  },
  {
   "cell_type": "code",
   "execution_count": 3,
   "metadata": {},
   "outputs": [],
   "source": [
    "# velocities\n",
    "\n",
    "PI = np.pi\n",
    "KMS = u.km / u.s\n",
    "\n",
    "v1_ref = 42.1 * KMS\n",
    "vy_ref = 200.0 * KMS\n",
    "vvir = 250 * KMS\n",
    "vesc = 550 * KMS\n",
    "\n",
    "gc_v_start = -500 * KMS\n",
    "v_step = 50 * KMS\n",
    "\n",
    "vels = np.arange(\n",
    "    gc_v_start.to_value(KMS),\n",
    "    (vesc + v_step).to_value(KMS),\n",
    "    v_step.to_value(KMS)\n",
    ")[::-1] * KMS\n",
    "\n",
    "ref_sigmax = 6e-8 * u.cm**2\n"
   ]
  },
  {
   "cell_type": "markdown",
   "metadata": {},
   "source": [
    "### Functions"
   ]
  },
  {
   "cell_type": "code",
   "execution_count": 4,
   "metadata": {},
   "outputs": [],
   "source": [
    "def as_quantity(a):\n",
    "    \"\"\"Convert argument to a Quantity (or raise NotImplementedError).\"\"\"\n",
    "    try:\n",
    "        return Quantity(a, copy=False, subok=True)\n",
    "    except Exception:\n",
    "        raise NotImplementedError\n",
    "\n",
    "# /def\n",
    "\n",
    "def qsquare(*args):\n",
    "    \"\"\"Quantity Squared.\"\"\"\n",
    "    return np.square(as_quantity(args))\n",
    "\n",
    "# /def\n",
    "\n",
    "def qnorm(*args):\n",
    "    \"\"\"Quantity Norm.\"\"\"\n",
    "    return np.linalg.norm(as_quantity(args))\n",
    "\n",
    "# /def"
   ]
  },
  {
   "cell_type": "code",
   "execution_count": 5,
   "metadata": {},
   "outputs": [],
   "source": [
    "# def f_BM(vx, vvir):\n",
    "#     \"\"\"Equation 3 of https://arxiv.org/pdf/1908.00557.pdf.\n",
    "    \n",
    "#     Parameters\n",
    "#     ----------\n",
    "#     vx : Quantity\n",
    "#         With physical type \"speed\"\n",
    "#     vvir : Quantity\n",
    "#         The virial velocity\n",
    "#         With physical type \"speed\"\n",
    "\n",
    "#     Returns\n",
    "#     -------\n",
    "#     Quantity\n",
    "\n",
    "#     \"\"\"\n",
    "#     norm = 4 * PI * vx ** 2. / np.power(PI * vvir ** 2, 3. / 2.)\n",
    "#     exp = np.exp(-np.square(vx / vvir))\n",
    "\n",
    "#     return norm * exp\n",
    "\n",
    "# # /def\n",
    "\n",
    "def f_BM_bin(vx, vbin, vvir):\n",
    "    \"\"\"Equation 3 of https://arxiv.org/pdf/1908.00557.pdf.\n",
    "    \n",
    "    Parameters\n",
    "    ----------\n",
    "    vx : Quantity\n",
    "        With physical type \"speed\"\n",
    "    vvir : Quantity\n",
    "        The virial velocity\n",
    "        With physical type \"speed\"\n",
    "\n",
    "    Returns\n",
    "    -------\n",
    "    Quantity\n",
    "\n",
    "    \"\"\"\n",
    "    norm = vbin**3 / np.power(PI * vvir ** 2., 3. / 2.)\n",
    "    exp = np.exp(-np.square(vx / vvir))\n",
    "\n",
    "    return norm * exp\n",
    "\n",
    "# /def\n"
   ]
  },
  {
   "cell_type": "markdown",
   "metadata": {},
   "source": [
    "### Data"
   ]
  },
  {
   "cell_type": "code",
   "execution_count": 6,
   "metadata": {},
   "outputs": [],
   "source": [
    "# micalines = src.data.load_mica_constraint()  # TODO get file\n",
    "\n",
    "superbursts = src.data.load_superbursts_polygon()\n",
    "superbursts1 = src.data.load_superbursts1_polygon()\n",
    "\n",
    "humanmass = src.data.humanmass\n",
    "humancross = src.data.humancross\n",
    "humanupper = src.data.humanupper\n",
    "\n",
    "DFNmass = src.data.DFNmass\n",
    "DFNcrosssection = src.data.DFNcrosssection\n",
    "DFNupper = src.data.DFNupper\n",
    "DFNfuturemass = src.data.DFNfuturemass\n",
    "DFNfuturecrosssection = src.data.DFNfuturecrosssection\n",
    "DFNfutureupper = src.data.DFNfutureupper\n",
    "\n",
    "WD = src.data.WD\n"
   ]
  },
  {
   "cell_type": "markdown",
   "metadata": {},
   "source": [
    "<br><br>\n",
    "\n",
    "- - - \n"
   ]
  },
  {
   "cell_type": "markdown",
   "metadata": {},
   "source": [
    "## Earth"
   ]
  },
  {
   "cell_type": "markdown",
   "metadata": {},
   "source": [
    "We first perform the integral $$\\Gamma(M_x, \\sigma_x) = A_{det}\\frac{\\rho_{DM}}{M_x} \\int_{v_{threshold}(\\sigma_x;D)}^{v_{esc}}v_x f_{MBSS}(v_x) \\rm{d}v_x $$\n",
    "\n",
    "from https://arxiv.org/pdf/1908.00557.pdf"
   ]
  },
  {
   "cell_type": "code",
   "execution_count": 106,
   "metadata": {},
   "outputs": [],
   "source": [
    "# constants\n",
    "Arho = 3 * u.g * u.s / u.m  # A_{det}*\\rho_{DM}\n",
    "sigma_factor = 1e4 * u.m**2 * u.cm**2 / u.s**2\n",
    "\n"
   ]
  },
  {
   "cell_type": "code",
   "execution_count": 27,
   "metadata": {},
   "outputs": [],
   "source": [
    "vbar = 0.0\n",
    "Vhold = 800.0 * u.km / u.s\n",
    "\n",
    "Mx_unit = u.g\n",
    "sigma_unit = u.cm**2\n",
    "\n",
    "Mhold=[]\n",
    "Shold=[]\n",
    "\n",
    "# calculate Mx\n",
    "for vx, vz, vy in itertools.product(vels, vels, vels):  # why this order?\n",
    "    if qnorm(vx, vy, vz) <= vesc:\n",
    "        _v = qnorm(vx, vy, vz)\n",
    "        maxwellian = f_BM_bin(_v, vbin=v_step, vvir=vvir)  # TODO understand normalization        \n",
    "        vrel = qnorm(v1_ref, vx, vy-vy_ref, vz)\n",
    "\n",
    "        vbar = vbar + vrel * maxwellian  # cumulative\n",
    "        Mx = (Arho * vbar).to_value(Mx_unit)\n",
    "        \n",
    "        Mhold.append(Mx)\n",
    "\n",
    "# calculate sigmax\n",
    "for vx, vz, vy in itertools.product(vels, vels, vels):  # why this order?\n",
    "    if qnorm(vx, vy, vz) <= vesc:\n",
    "        vrel = qnorm(v1_ref, vx, vy-vy_ref, vz)\n",
    "        if Vhold < vrel:\n",
    "            vrel = Vhold\n",
    "\n",
    "        sigmax = (sigma_factor / vrel**2)\n",
    "        if sigmax < ref_sigmax:\n",
    "            sigmax = ref_sigmax\n",
    "\n",
    "        Shold.append(sigmax.to_value(sigma_unit))\n",
    "\n",
    "        Vhold = vrel    # problem? never reset Vhold\n",
    "\n",
    "# /for\n",
    "\n",
    "Mhold = np.array(Mhold) * Mx_unit\n",
    "Shold = np.array(Shold) * sigma_unit\n"
   ]
  },
  {
   "cell_type": "markdown",
   "metadata": {},
   "source": []
  },
  {
   "cell_type": "code",
   "execution_count": 86,
   "metadata": {},
   "outputs": [],
   "source": [
    "M = []\n",
    "S = []\n",
    "\n",
    "powers = [i*10**n for n in range(1, 10) for i in range(1, 10)] * Mhold.unit\n",
    "\n",
    "for p, k in zip(powers[:-1], powers[1:]):\n",
    "    sel = (p < Mhold) & (Mhold < k)\n",
    "    if sum(sel) > 0.:\n",
    "        M.append((p + k) / 2)\n",
    "        S.append(min(Shold[sel]))\n",
    "\n",
    "M = as_quantity(M)\n",
    "S = as_quantity(S)"
   ]
  },
  {
   "cell_type": "code",
   "execution_count": 150,
   "metadata": {},
   "outputs": [
    {
     "data": {
      "text/html": [
       "<i>QTable length=1</i>\n",
       "<table id=\"table140663432328624\" class=\"table-striped table-bordered table-condensed\">\n",
       "<thead><tr><th>mass</th><th>sigma</th></tr></thead>\n",
       "<thead><tr><th>g</th><th>cm2</th></tr></thead>\n",
       "<thead><tr><th>float64</th><th>float64</th></tr></thead>\n",
       "<tr><td>25000.0</td><td>6.181523783938187e-08</td></tr>\n",
       "</table>"
      ],
      "text/plain": [
       "<QTable length=1>\n",
       "  mass          sigma        \n",
       "   g             cm2         \n",
       "float64        float64       \n",
       "------- ---------------------\n",
       "25000.0 6.181523783938187e-08"
      ]
     },
     "execution_count": 150,
     "metadata": {},
     "output_type": "execute_result"
    }
   ],
   "source": [
    "sel = S > 6e-8 * u.cm**2  # TODO make a parameter\n",
    "\n",
    "macro = QTable([M[sel], S[sel]], names=[\"mass\", \"sigma\"])\n",
    "macro[:1]"
   ]
  },
  {
   "cell_type": "code",
   "execution_count": 182,
   "metadata": {},
   "outputs": [
    {
     "data": {
      "text/latex": [
       "$[1.2268558 \\times 10^{-7},~7.202011 \\times 10^{-8},~5.1032638 \\times 10^{-8},~5.2235533 \\times 10^{-8},~6.9129619 \\times 10^{-8},~9.6153539 \\times 10^{-8},~1.2863075 \\times 10^{-7},~1.6271459 \\times 10^{-7},~2.7549439 \\times 10^{-7},~1.1755293 \\times 10^{-7},~6.4712143 \\times 10^{-7},~2.6908514 \\times 10^{-6},~5.1243491 \\times 10^{-6},~6.0631243 \\times 10^{-6},~5.437984 \\times 10^{-6},~5.6975161 \\times 10^{-6},~5.6354818 \\times 10^{-6}] \\; \\mathrm{cm^{2}}$"
      ],
      "text/plain": [
       "<Quantity [1.22685577e-07, 7.20201098e-08, 5.10326376e-08, 5.22355328e-08,\n",
       "           6.91296187e-08, 9.61535388e-08, 1.28630751e-07, 1.62714588e-07,\n",
       "           2.75494395e-07, 1.17552935e-07, 6.47121429e-07, 2.69085135e-06,\n",
       "           5.12434913e-06, 6.06312425e-06, 5.43798403e-06, 5.69751608e-06,\n",
       "           5.63548176e-06] cm2>"
      ]
     },
     "execution_count": 182,
     "metadata": {},
     "output_type": "execute_result"
    }
   ],
   "source": [
    "z = np.polyfit(macro[\"mass\"].to_value(u.g), macro[\"sigma\"].to_value(u.cm**2), 8)\n",
    "# z.__doc__ = \"\"\"Map mass to sigma.\"\"\"\n",
    "p = np.poly1d(z)\n",
    "\n",
    "sigmalightning = np.polyval(z, macro[\"mass\"].value) * u.cm**2\n",
    "sigmalightning"
   ]
  },
  {
   "cell_type": "code",
   "execution_count": 192,
   "metadata": {},
   "outputs": [
    {
     "name": "stdout",
     "output_type": "stream",
     "text": [
      "[6.0e-04 2.5e+04 3.5e+04 4.5e+04 5.5e+04 6.5e+04 7.5e+04 8.5e+04 9.5e+04\n",
      " 1.5e+05 2.5e+05 3.5e+05 4.5e+05 5.5e+05 6.5e+05 7.5e+05 8.5e+05 9.5e+05]\n",
      "[6.0e-08 2.5e+08 3.5e+08 4.5e+08 5.5e+08 6.5e+08 7.5e+08 8.5e+08 9.5e+08\n",
      " 1.5e+09 2.5e+09 3.5e+09 4.5e+09 5.5e+09 6.5e+09 7.5e+09 8.5e+09 9.5e+09]\n",
      "[6.00000000e-08 1.22685577e-07 7.20201098e-08 5.10326376e-08\n",
      " 5.22355328e-08 6.91296187e-08 9.61535388e-08 1.28630751e-07\n",
      " 1.62714588e-07 2.75494395e-07 1.17552935e-07 6.47121429e-07\n",
      " 2.69085135e-06 5.12434913e-06 6.06312425e-06 5.43798403e-06\n",
      " 5.69751608e-06 5.63548176e-06]\n"
     ]
    }
   ],
   "source": [
    "masslightning = macro[\"mass\"]\n",
    "upperlightning = masslightning * 1e4 * u.cm**2 / u.g # why? UNITS!  sigma_factor\n",
    "\n",
    "masslightning = np.insert(masslightning, 0, values=6e-4 * u.g)\n",
    "sigmalightning = np.insert(sigmalightning, 0, values=6e-8 * u.cm**2)\n",
    "upperlightning = np.insert(upperlightning, 0, values=6e-8 * u.cm**2)\n",
    "\n",
    "print(masslightning.value, upperlightning.value,\n",
    "      sigmalightning.value, sep=\"\\n\")"
   ]
  },
  {
   "cell_type": "code",
   "execution_count": 169,
   "metadata": {},
   "outputs": [
    {
     "name": "stdout",
     "output_type": "stream",
     "text": [
      "<ipython-input-169-afb3c63985be>:15: MatplotlibDeprecationWarning: Using a string of single character colors as a color sequence is deprecated. Use an explicit list instead.\n",
      "  ax.fill_between(M1, ymin, BH(M1), where=None,color='1', edgecolor='', hatch=\"+\",alpha=1,zorder=2)\n",
      "\n"
     ]
    },
    {
     "data": {
      "image/png": "[encoded data removed]",
      "text/plain": [
       "<Figure size 432x288 with 1 Axes>"
      ]
     },
     "metadata": {
      "image/png": {
       "height": 273,
       "width": 421
      },
      "needs_background": "light"
     },
     "output_type": "display_data"
    }
   ],
   "source": [
    "# Define Plot\n",
    "fig, ax = plt.subplots(figsize=(6, 4))\n",
    "\n",
    "ax.set_xlabel('$M_\\t{X}$ [g]',fontsize=18)\n",
    "ax.set_xlim([M1.min(), M1.max()])\n",
    "ax.set_ylim([1e-15, 1e25])  # min/max of nuclear_density(M1)\n",
    "ax.set_ylabel('$\\sigma_\\t{X}$ [cm$^{2}$]',fontsize=18)\n",
    "\n",
    "# Constraints\n",
    "M1 = np.logspace(1,25)\n",
    "ax.loglog(M1, atomic_density(M1), 'k', markersize=4, color='k',lw=1,label='Atomic density',zorder=0)\n",
    "ax.loglog(M1, nuclear_density(M1), 'k', markersize=4, color='g',lw=2,label='Nuclear density',zorder=0)\n",
    "\n",
    "ax.loglog(M1, BH(M1), 'k', markersize=4, color='m',lw=3,label='Black holes',zorder=3)\n",
    "ax.fill_between(M1, ymin, BH(M1), where=None,color='1', edgecolor='', hatch=\"+\",alpha=1,zorder=2)\n",
    "\n",
    "# Earth Lightning\n",
    "plt.fill_between(\n",
    "    masslightning, sigmalightning, upperlightning,\n",
    "    where=None, \n",
    "    facecolor='none',\n",
    "    edgecolor='black',\n",
    "    hatch=\"//\",\n",
    "    alpha=1.0,\n",
    "    zorder=8,\n",
    "    label=\"Earth Lightning\"\n",
    ")\n",
    "\n",
    "ax.legend(loc='upper left', shadow=True)\n",
    "ax.grid(True)\n",
    "plt.tight_layout()\n",
    "\n",
    "plt.show();"
   ]
  },
  {
   "cell_type": "markdown",
   "metadata": {},
   "source": [
    "## Jupiter"
   ]
  },
  {
   "cell_type": "code",
   "execution_count": 157,
   "metadata": {},
   "outputs": [],
   "source": [
    "def CMB(M):\n",
    "    return 4.5e-7 * M\n",
    "\n",
    "#Nuclear Density\n",
    "def nuclear_density(M):\n",
    "    f = PI * (3/(4*PI*3.6e14))**(2./3) * np.power(M, 2./3.)\n",
    "    return f\n",
    "\n",
    "#Black Holes\n",
    "def BH(M):\n",
    "    f = PI*(3e5)**2 *(M/(2e33))**2\n",
    "    return f\n",
    "\n",
    "#Atomic Density\n",
    "def atomic_density(M):\n",
    "    f = PI*(3/(4*PI * 1e0))**(2./3) *pow(M,2./3)\n",
    "    return f\n",
    "\n",
    "def KeplerTop(M):\n",
    "    f = 1e-6*M\n",
    "    return f\n",
    "\n",
    "def LMCTop(M):\n",
    "    f = 1e-4*M\n",
    "    return f"
   ]
  },
  {
   "cell_type": "code",
   "execution_count": 61,
   "metadata": {},
   "outputs": [
    {
     "name": "stdout",
     "output_type": "stream",
     "text": [
      "[1.2e+00 5.0e+07 7.0e+07 1.1e+08 1.5e+08 1.9e+08 3.0e+08 5.0e+08 7.0e+08\n",
      " 9.0e+08 1.9e+09]\n",
      "[1.2e-04 5.0e+03 7.0e+03 1.1e+04 1.5e+04 1.9e+04 3.0e+04 5.0e+04 7.0e+04\n",
      " 9.0e+04 1.9e+05]\n"
     ]
    }
   ],
   "source": [
    "jupitermasslightning = masslightning[:] * 2e3\n",
    "uppersigmalightningjupiter = jupitermasslightning[:] * 1e-4\n",
    "\n",
    "print(jupitermasslightning, uppersigmalightningjupiter, sep=\"\\n\")"
   ]
  },
  {
   "cell_type": "code",
   "execution_count": 215,
   "metadata": {},
   "outputs": [
    {
     "data": {
      "text/latex": [
       "$[222182.44,~438688.56,~687802.99,~\\dots,~7.3000144 \\times 10^{9},~7.3002789 \\times 10^{9},~7.3005224 \\times 10^{9}] \\; \\mathrm{g}$"
      ],
      "text/plain": [
       "<Quantity [2.22182445e+05, 4.38688564e+05, 6.87802989e+05, ...,\n",
       "           7.30001442e+09, 7.30027891e+09, 7.30052243e+09] g>"
      ]
     },
     "execution_count": 215,
     "metadata": {},
     "output_type": "execute_result"
    }
   ],
   "source": [
    "vbar = 0.0 * u.km / u.s\n",
    "Vhold = 800.0 * u.km / u.s\n",
    "\n",
    "Mx_unit = u.g\n",
    "sigma_unit = u.cm**2\n",
    "\n",
    "Mhold=[]\n",
    "Shold=[]\n",
    "\n",
    "sigma_factor = 1e-10 * u.cm**6  # TODO why units?\n",
    "\n",
    "# calculate Mx\n",
    "for vx, vz, vy in itertools.product(vels, vels, vels):  # why this order?\n",
    "    _v = qnorm(vx, vy, vz)\n",
    "\n",
    "    if (vvir < _v) & (_v <= vesc):  # TODO WHY?\n",
    "        maxwellian = f_BM_bin(_v, vbin=v_step, vvir=vvir)  # TODO understand normalization        \n",
    "        vrel = qnorm(v1_ref, vx, vy-vy_ref, vz)\n",
    "\n",
    "        vbar = vbar + vrel * maxwellian  # cumulative\n",
    "\n",
    "        Mx = (1e5/3 * (u.g * u.s / u.m) * vbar).to_value(Mx_unit)  # TODO why?\n",
    "        Mhold.append(Mx)\n",
    "# /for \n",
    "\n",
    "# calculate sigmax\n",
    "for vx, vz, vy in itertools.product(vels, vels, vels):  # why this order?\n",
    "    _v = qnorm(vx, vy, vz)\n",
    "    if (vvir < _v) & (_v <= vesc):  # TODO WHY?\n",
    "        vrel = qnorm(v1_ref, vx, vy-vy_ref, vz)\n",
    "        if Vhold < vrel:\n",
    "            vrel = Vhold\n",
    "\n",
    "        sigmax = np.power(sigma_factor * (vvir / vrel)**7, 1./3)\n",
    "        # if sigmax < ref_sigmax:  # TODO why not this?\n",
    "        #     sigmax = ref_sigmax\n",
    "        Shold.append(sigmax.to_value(sigma_unit))\n",
    "\n",
    "        Vhold = vrel    # problem? never reset Vhold\n",
    "\n",
    "# /for\n",
    "\n",
    "Mhold = np.array(Mhold) * Mx_unit\n",
    "Shold = np.array(Shold) * sigma_unit\n",
    "\n",
    "Mhold"
   ]
  },
  {
   "cell_type": "code",
   "execution_count": 216,
   "metadata": {},
   "outputs": [
    {
     "data": {
      "text/plain": [
       "array([2.22182445e+05, 4.38688564e+05, 6.87802989e+05, ...,\n",
       "       7.30001442e+09, 7.30027891e+09, 7.30052243e+09])"
      ]
     },
     "execution_count": 216,
     "metadata": {},
     "output_type": "execute_result"
    },
    {
     "data": {
      "text/plain": [
       "array([6.34075195e-05, 7.39435960e-05, 7.39435960e-05, ...,\n",
       "       6.20382546e-03, 6.20382546e-03, 6.20382546e-03])"
      ]
     },
     "execution_count": 216,
     "metadata": {},
     "output_type": "execute_result"
    }
   ],
   "source": [
    "Mhold.value\n",
    "Shold.value"
   ]
  },
  {
   "cell_type": "code",
   "execution_count": 220,
   "metadata": {},
   "outputs": [
    {
     "data": {
      "text/plain": [
       "(10648,)"
      ]
     },
     "execution_count": 220,
     "metadata": {},
     "output_type": "execute_result"
    }
   ],
   "source": [
    "vxs = []\n",
    "for vx, vz, vy in itertools.product(vels.value, vels.value, vels.value):\n",
    "    vxs.append(vx)\n",
    "np.shape(vxs)"
   ]
  },
  {
   "cell_type": "code",
   "execution_count": 221,
   "metadata": {},
   "outputs": [
    {
     "data": {
      "text/plain": [
       "(10648,)"
      ]
     },
     "execution_count": 221,
     "metadata": {},
     "output_type": "execute_result"
    }
   ],
   "source": [
    "vxs = []\n",
    "\n",
    "for i in range(0,22):\n",
    "    vx=550.0-i*50.0\n",
    "    for j in range(0,22):\n",
    "        vz=550.0-j*50.0\n",
    "        for k in range(0,22):\n",
    "            vy=550.0-k*50.0  #this is in the Galactic rest frame\n",
    "            vxs.append(vx)\n",
    "np.shape(vxs)"
   ]
  },
  {
   "cell_type": "code",
   "execution_count": 214,
   "metadata": {},
   "outputs": [
    {
     "data": {
      "text/plain": [
       "array([2.22182445e+05, 4.38688564e+05, 6.87802989e+05, ...,\n",
       "       9.34974331e+09, 9.35000781e+09, 9.35025133e+09])"
      ]
     },
     "execution_count": 214,
     "metadata": {},
     "output_type": "execute_result"
    },
    {
     "data": {
      "text/plain": [
       "array([6.34075195e-05, 7.39435960e-05, 7.39435960e-05, ...,\n",
       "       4.49260261e-04, 4.49260261e-04, 4.49260261e-04])"
      ]
     },
     "execution_count": 214,
     "metadata": {},
     "output_type": "execute_result"
    }
   ],
   "source": [
    "Mhold=[]\n",
    "Shold=[]\n",
    "\n",
    "vbar=0.0\n",
    "f=0.0\n",
    "Vhold = 800.0\n",
    "\n",
    "for i in range(0,22):\n",
    "    vx=550.0-i*50.0\n",
    "    for j in range(0,22):\n",
    "        vz=550.0-j*50.0\n",
    "        for k in range(0,22):\n",
    "            vy=550.0-k*50.0  #this is in the Galactic rest frame\n",
    "            \n",
    "            if (np.sqrt(vx**2+vy**2+vz**2)>550.0):\n",
    "                pass\n",
    "\n",
    "            elif(np.sqrt(42.1**2+vx**2+vz**2+(vy-200.0)**2)>250.0):\n",
    "                vrel=np.sqrt(42.1**2+vx**2+vz**2+(vy-200.0)**2)\n",
    "                vbar=vbar+(vrel)*np.exp(-(vx**2+vy**2+vz**2)/(250.0**2))*(50.0**3)/(np.pi*250.0**2)**1.5\n",
    "                Mx=1e5*vbar*1e3/3\n",
    "\n",
    "                if Vhold<vrel:\n",
    "                    vrel=Vhold\n",
    "                else:\n",
    "                    vrel=np.sqrt(42.1**2+vx**2+vz**2+(vy-200.0)**2)\n",
    "\n",
    "                sigmax=(10**-10*(250/vrel)**7)**(1/3)\n",
    "\n",
    "                Mhold.append(Mx)\n",
    "                Shold.append(sigmax)\n",
    "                Vhold=vrel\n",
    "                \n",
    "Mhold = np.array(Mhold)\n",
    "Shold = np.array(Shold)\n",
    "Mhold\n",
    "Shold"
   ]
  },
  {
   "cell_type": "code",
   "execution_count": 83,
   "metadata": {},
   "outputs": [
    {
     "data": {
      "text/plain": [
       "array([6.34075195e-05, 7.39435960e-05, 7.39435960e-05, 7.39435960e-05,\n",
       "       8.17931170e-05, 8.17931170e-05, 8.72868532e-05, 8.72868532e-05,\n",
       "       8.72868532e-05, 9.02978842e-05, 9.02978842e-05, 9.13448065e-05,\n",
       "       9.13448065e-05, 9.46251397e-05, 1.10255278e-04, 1.14934920e-04,\n",
       "       1.16577666e-04, 1.16577666e-04, 1.16577666e-04, 1.18264557e-04,\n",
       "       1.53039953e-04, 2.03390727e-04, 2.08172255e-04, 2.08172255e-04,\n",
       "       2.87350071e-04, 2.96503070e-04, 2.96503070e-04, 4.29698127e-04,\n",
       "       4.49260261e-04, 4.49260261e-04, 4.49260261e-04, 4.49260261e-04,\n",
       "       4.49260261e-04, 4.49260261e-04, 4.49260261e-04])"
      ]
     },
     "execution_count": 83,
     "metadata": {},
     "output_type": "execute_result"
    }
   ],
   "source": [
    "M = []\n",
    "S = []\n",
    "\n",
    "for k, i in itertools.product(range(5,15), range(1,9)):\n",
    "    sel = (i*10**k < Mhold) & (Mhold < (i+1)*10**k)\n",
    "    if sum(sel) > 0:\n",
    "        S.append(min(Shold[sel]))\n",
    "        M.append((2*i+1) * 10**k / 2)\n",
    "\n",
    "np.array(S)"
   ]
  },
  {
   "cell_type": "code",
   "execution_count": 93,
   "metadata": {},
   "outputs": [],
   "source": [
    "jovian = np.c_[\n",
    "    M + [8.5*1e9, 0.634, 250000.0],\n",
    "    S + [8.5*1e9*1e-4, 6.34075194929149e-05, 6.34075194929149e-05]\n",
    "]"
   ]
  },
  {
   "cell_type": "markdown",
   "metadata": {},
   "source": [
    "### Plotting Phase Space Constraints"
   ]
  },
  {
   "cell_type": "code",
   "execution_count": 95,
   "metadata": {},
   "outputs": [
    {
     "ename": "NameError",
     "evalue": "name 'micalines' is not defined",
     "output_type": "error",
     "traceback": [
      "\u001b[0;31m---------------------------------------------------------------------------\u001b[0m",
      "\u001b[0;31mNameError\u001b[0m                                 Traceback (most recent call last)",
      "\u001b[0;32m<ipython-input-95-56c5c76a09fc>\u001b[0m in \u001b[0;36m<module>\u001b[0;34m\u001b[0m\n\u001b[1;32m     54\u001b[0m \u001b[0;31m#each pair of lines is one constraint\u001b[0m\u001b[0;34m\u001b[0m\u001b[0;34m\u001b[0m\u001b[0;34m\u001b[0m\u001b[0m\n\u001b[1;32m     55\u001b[0m \u001b[0;34m\u001b[0m\u001b[0m\n\u001b[0;32m---> 56\u001b[0;31m \u001b[0mline3\u001b[0m \u001b[0;34m=\u001b[0m \u001b[0mplt\u001b[0m\u001b[0;34m.\u001b[0m\u001b[0mPolygon\u001b[0m\u001b[0;34m(\u001b[0m\u001b[0mmicalines\u001b[0m\u001b[0;34m,\u001b[0m \u001b[0mclosed\u001b[0m\u001b[0;34m=\u001b[0m\u001b[0;32mNone\u001b[0m\u001b[0;34m,\u001b[0m \u001b[0mfill\u001b[0m\u001b[0;34m=\u001b[0m\u001b[0;32mTrue\u001b[0m\u001b[0;34m,\u001b[0m \u001b[0mfacecolor\u001b[0m\u001b[0;34m=\u001b[0m\u001b[0;34m'yellow'\u001b[0m\u001b[0;34m,\u001b[0m \u001b[0medgecolor\u001b[0m\u001b[0;34m=\u001b[0m\u001b[0;34m'black'\u001b[0m\u001b[0;34m,\u001b[0m\u001b[0malpha\u001b[0m\u001b[0;34m=\u001b[0m\u001b[0;36m0.8\u001b[0m\u001b[0;34m,\u001b[0m \u001b[0mhatch\u001b[0m\u001b[0;34m=\u001b[0m\u001b[0;34m\"|\"\u001b[0m\u001b[0;34m,\u001b[0m\u001b[0mlw\u001b[0m\u001b[0;34m=\u001b[0m\u001b[0;36m1\u001b[0m\u001b[0;34m,\u001b[0m\u001b[0mzorder\u001b[0m\u001b[0;34m=\u001b[0m\u001b[0;36m0\u001b[0m\u001b[0;34m)\u001b[0m\u001b[0;31m# edgecolor='r'\u001b[0m\u001b[0;34m\u001b[0m\u001b[0;34m\u001b[0m\u001b[0m\n\u001b[0m\u001b[1;32m     57\u001b[0m \u001b[0mplt\u001b[0m\u001b[0;34m.\u001b[0m\u001b[0mgca\u001b[0m\u001b[0;34m(\u001b[0m\u001b[0;34m)\u001b[0m\u001b[0;34m.\u001b[0m\u001b[0madd_line\u001b[0m\u001b[0;34m(\u001b[0m\u001b[0mline3\u001b[0m\u001b[0;34m)\u001b[0m \u001b[0;31m#e.g. only need to comment out this line (plt.gca()...)to remove mica constraints,\u001b[0m\u001b[0;34m\u001b[0m\u001b[0;34m\u001b[0m\u001b[0m\n\u001b[1;32m     58\u001b[0m \u001b[0;31m#but you can comment out both the above lines if you want\u001b[0m\u001b[0;34m\u001b[0m\u001b[0;34m\u001b[0m\u001b[0;34m\u001b[0m\u001b[0m\n",
      "\u001b[0;31mNameError\u001b[0m: name 'micalines' is not defined"
     ]
    },
    {
     "data": {
      "image/png": "[encoded data removed]",
      "text/plain": [
       "<Figure size 432x288 with 1 Axes>"
      ]
     },
     "metadata": {
      "image/png": {
       "height": 277,
       "width": 420
      },
      "needs_background": "light"
     },
     "output_type": "display_data"
    }
   ],
   "source": [
    "M1=np.logspace(1,25)\n",
    "MMica = np.logspace(-10, 2.204)# for M_max=160g\n",
    "MMica1 = np.logspace(-12,1.43,num=1000)#  2.204 for M_max=160g  1.74 for M_max = 55g  1.43 for M_max=27.5g\n",
    "MMica2 = np.logspace(1.43,1.74,num=1000)\n",
    "Mmicro = np.logspace(23.0,28.0)\n",
    "\n",
    "#Define Plot\n",
    "fig = plt.figure()\n",
    "ax = fig.add_subplot(111)\n",
    "\n",
    "#X-axis\n",
    "ax.set_xlabel('$M_\\t{X}$ [g]',fontsize=18)\n",
    "ax.set_xlim([M1.min(),M1.max()])\n",
    "\n",
    "#Y-axis\n",
    "ymin=10**-15#nuclear_density(M1).min()#10**(-15)\n",
    "ymax=float(10**25)#nuclear_density(M1).max()#10**15\n",
    "ax.set_ylim([ymin,ymax])\n",
    "ax.set_ylabel('$\\sigma_\\t{X}$ [cm$^{2}$]',fontsize=18)\n",
    "\n",
    "#Make Plot\n",
    "ax.loglog(M1, atomic_density(M1), 'k', markersize=4, color='k',lw=1,label='Atomic density',zorder=0)\n",
    "ax.loglog(M1, nuclear_density(M1), 'k', markersize=4, color='g',lw=2,label='Nuclear density',zorder=0)\n",
    "ax.loglog(M1, nuclear_density(M1), 'k', markersize=4, color='m',lw=3,label='Black holes',zorder=3)\n",
    "\n",
    "#commenting out lines below here will remove some exclusion regions\n",
    "#each pair of lines is one constraint\n",
    "\n",
    "line3 = plt.Polygon(micalines, closed=None, fill=True, facecolor='yellow', edgecolor='black',alpha=0.8, hatch=\"|\",lw=1,zorder=0)# edgecolor='r'\n",
    "plt.gca().add_line(line3) #e.g. only need to comment out this line (plt.gca()...)to remove mica constraints,\n",
    "#but you can comment out both the above lines if you want\n",
    "\n",
    "lineWD = plt.Polygon(WD, closed=None, fill=True, facecolor='blue', edgecolor='black',alpha=0.6, hatch=\"\",lw=1,zorder=2)# edgecolor='r'\n",
    "plt.gca().add_line(lineWD)\n",
    "\n",
    "plt.fill_between(M1, CMB(M1),ymax,where=None, color='grey',edgecolor='black',hatch=\"\",alpha=.7,zorder=1)#SIDM ,alpha=.5\n",
    "\n",
    "linen = plt.Polygon(superbursts, closed=None, fill=True, facecolor='purple', edgecolor='black',alpha=0.6, hatch=\"\",lw=1,zorder=5)# edgecolor='r'\n",
    "plt.gca().add_line(linen)\n",
    "\n",
    "# linelightning = plt.Polygon(lightning, closed=None, fill=True, facecolor='cyan', edgecolor='black',alpha=1, hatch=\"\",lw=1,zorder=4)# edgecolor='r'\n",
    "# plt.gca().add_line(linelightning)\n",
    "\n",
    "# linejovian = plt.Polygon(jovian, closed=None, fill=True, facecolor='none', edgecolor='black',alpha=1, hatch=\"+\",lw=1,zorder=3)# edgecolor='r'\n",
    "# plt.gca().add_line(linejovian)\n",
    "\n",
    "linen1 = plt.Polygon(superburst1, closed=None, fill=True, facecolor='purple', edgecolor='black',alpha=0.6, hatch=\"//\",lw=1,zorder=5)# edgecolor='r'\n",
    "plt.gca().add_line(linen1)\n",
    "\n",
    "plt.fill_between(masslightning,sigmalightning ,upperlightning,where=None, facecolor='none',edgecolor='black',hatch=\"//\",alpha=1.0,zorder=8)\n",
    "\n",
    "plt.fill_between(jupitermasslightning,sigmalightning ,uppersigmalightningjupiter,where=None, facecolor='none',edgecolor='cyan',hatch=\"//\",alpha=1.0,zorder=4)\n",
    "\n",
    "\n",
    "# plt.fill_between(humanmass,humancross ,humanupper,where=None, facecolor='red',edgecolor='black',hatch=\"\",alpha=1.0,zorder=5)\n",
    "plt.fill_between(humanmass,humancross ,humanupper,where=None, facecolor='red',edgecolor='black',hatch=\"\",alpha=1.0,zorder=5)\n",
    "plt.fill_between(DFNmass,DFNcrosssection ,DFNupper,where=None, facecolor='green',edgecolor='black',hatch=\"\",alpha=1.0,zorder=6)\n",
    "\n",
    "# comment out lines below to remove lensing constraints, each line is a constraint itself\n",
    "#unlike the above lines\n",
    "plt.fill_between(Mmicro, BH(Mmicro), LMCTop(Mmicro), where=None,facecolor='brown', edgecolor='black', hatch=\"/\",alpha=1,zorder=2) #BH ,label='BH',\n",
    "\n",
    "\n",
    "plt.fill_between(M1, ymin, BH(M1), where=None,color='1', edgecolor='', hatch=\"+\",alpha=1,zorder=2) #BH ,label='BH',\n",
    "\n",
    "leghumans = Rectangle((0, 0), 1, 1, fc='purple',edgecolor='black', hatch=\"\",alpha=0.6)\n",
    "legbol = Rectangle((0, 0), 1, 1, fc=\"purple\",edgecolor='black', hatch=\"/\",alpha=0.6)\n",
    "legbol2 = Rectangle((0, 0), 1, 1, fc='none',edgecolor='green', hatch=\"+\",alpha=0.6)\n",
    "legfluo = Rectangle((0, 0), 1, 1, fc=\"none\",edgecolor='blue', hatch=\"//\",alpha=1)\n",
    "leggranite= Rectangle((0, 0), 1, 1, fc=\"none\",edgecolor='purple', alpha=1,hatch=\"\\ \")\n",
    "\n",
    "leg = ax.legend(loc='upper left', shadow=True)\n",
    "ax.grid(True)\n",
    "plt.tight_layout()\n",
    "plt.savefig('lightningconstraints.pdf')\n",
    "\n",
    "plt.show();"
   ]
  },
  {
   "cell_type": "markdown",
   "metadata": {},
   "source": [
    "<br><br>\n",
    "\n",
    "- - - \n",
    "\n",
    "<span style='font-size:40px;font-weight:650'>\n",
    "    END\n",
    "</span>"
   ]
  },
  {
   "cell_type": "code",
   "execution_count": null,
   "metadata": {},
   "outputs": [],
   "source": []
  }
 ],
 "metadata": {
  "kernelspec": {
   "display_name": "Python 3",
   "language": "python",
   "name": "python3"
  },
  "language_info": {
   "codemirror_mode": {
    "name": "ipython",
    "version": 3
   },
   "file_extension": ".py",
   "mimetype": "text/x-python",
   "name": "python",
   "nbconvert_exporter": "python",
   "pygments_lexer": "ipython3",
   "version": "3.8.2"
  }
 },
 "nbformat": 4,
 "nbformat_minor": 4
}
