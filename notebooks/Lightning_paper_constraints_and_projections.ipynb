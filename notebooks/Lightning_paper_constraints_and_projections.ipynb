{
 "cells": [
  {
   "cell_type": "markdown",
   "metadata": {},
   "source": [
    "# Macro-Induced Lightning Constraints"
   ]
  },
  {
   "cell_type": "code",
   "execution_count": 1,
   "metadata": {
    "collapsed": false,
    "inputHidden": false,
    "jupyter": {
     "outputs_hidden": false
    },
    "outputHidden": false
   },
   "outputs": [],
   "source": [
    "\"\"\"\n",
    "    TITLE   : Macro-Induced Lightning Constraints\n",
    "    AUTHOR  : Jagjit Sidhu, Nathaniel Starkman\n",
    "    PROJECT : https://github.com/nstarman/macro_lightning\n",
    "\"\"\";\n",
    "\n",
    "__author__ = ['Jagjit Sidhu', \"Nathaniel Starkman\"]"
   ]
  },
  {
   "cell_type": "markdown",
   "metadata": {},
   "source": [
    "<span style='font-size:30px;font-weight:650'>\n",
    "    About\n",
    "</span>\n",
    "\n",
    "This notebook contains the calculations for how well macro-induced lightnint on Earth and Jupiter can constrain macro models.\n"
   ]
  },
  {
   "cell_type": "markdown",
   "metadata": {},
   "source": [
    "<br><br>\n",
    "\n",
    "- - - \n"
   ]
  },
  {
   "cell_type": "markdown",
   "metadata": {},
   "source": [
    "## Prepare"
   ]
  },
  {
   "cell_type": "markdown",
   "metadata": {
    "inputHidden": false,
    "outputHidden": false
   },
   "source": [
    "### Imports"
   ]
  },
  {
   "cell_type": "code",
   "execution_count": 2,
   "metadata": {},
   "outputs": [
    {
     "name": "stdout",
     "output_type": "stream",
     "text": [
      "set autoreload to 1\n"
     ]
    }
   ],
   "source": [
    "# BUILT-IN\n",
    "\n",
    "import csv\n",
    "import io\n",
    "import itertools\n",
    "import os\n",
    "import sys\n",
    "\n",
    "\n",
    "# THIRD PARTY\n",
    "\n",
    "from astropy import units as u\n",
    "from astropy.units import Quantity\n",
    "\n",
    "import matplotlib\n",
    "import matplotlib.pyplot as plt\n",
    "\n",
    "import numpy as np\n",
    "from numpy.linalg import norm\n",
    "\n",
    "import scipy\n",
    "from scipy.interpolate import interp1d\n",
    "\n",
    "import utilipy\n",
    "\n",
    "# PROJECT SPECIFIC\n",
    "\n",
    "sys.path.insert(0, \"../\")\n",
    "import src\n"
   ]
  },
  {
   "cell_type": "markdown",
   "metadata": {},
   "source": [
    "### Parameters"
   ]
  },
  {
   "cell_type": "code",
   "execution_count": 3,
   "metadata": {},
   "outputs": [],
   "source": [
    "# velocities\n",
    "v_unit = u.km / u.s\n",
    "\n",
    "v1_ref = 42.1 * u.km / u.s\n",
    "vy_ref = 200.0 * u.km / u.s\n",
    "macro_vel = 250 * u.km / u.s\n",
    "\n",
    "gc_v_ref = 550 * v_unit\n",
    "gc_v_start = -500 * u.km / u.s\n",
    "gc_v_stop = gc_v_ref\n",
    "v_step = 50 * v_unit\n",
    "\n",
    "vels = np.arange(\n",
    "    gc_v_start.to_value(v_unit),\n",
    "    (gc_v_stop + v_step).to_value(v_unit),\n",
    "    v_step.to_value(v_unit)\n",
    ")[::-1] * v_unit\n",
    "\n",
    "ref_sigmax = 6e-8 * u.cm**2\n"
   ]
  },
  {
   "cell_type": "code",
   "execution_count": 4,
   "metadata": {},
   "outputs": [],
   "source": [
    "PI = np.pi"
   ]
  },
  {
   "cell_type": "markdown",
   "metadata": {},
   "source": [
    "### Functions"
   ]
  },
  {
   "cell_type": "code",
   "execution_count": 5,
   "metadata": {},
   "outputs": [],
   "source": [
    "def as_quantity(a):\n",
    "    \"\"\"Convert argument to a Quantity (or raise NotImplementedError).\"\"\"\n",
    "    try:\n",
    "        return Quantity(a, copy=False, subok=True)\n",
    "    except Exception:\n",
    "        raise NotImplementedError\n",
    "# /def\n",
    "\n",
    "def qsquare(*args):\n",
    "    return np.square(as_quantity(args))\n",
    "# /def\n",
    "\n",
    "def qnorm(*args):\n",
    "    return np.linalg.norm(as_quantity(args))\n",
    "# /def"
   ]
  },
  {
   "cell_type": "markdown",
   "metadata": {},
   "source": [
    "### Data"
   ]
  },
  {
   "cell_type": "code",
   "execution_count": 6,
   "metadata": {},
   "outputs": [
    {
     "data": {
      "text/plain": [
       "array([[80000000000, 8e-08],\n",
       "       [700000000000000, 0.007],\n",
       "       [1000000000000000000, 140],\n",
       "       [2e+20, 54000],\n",
       "       [4e+21, 1000000],\n",
       "       [4.8e+22, 12000000.0],\n",
       "       [4.8e+22, 140],\n",
       "       [7000000000000000000000, 0.007],\n",
       "       [800000000000000000000, 8e-08],\n",
       "       [80100000000.0, 8e-08]], dtype=object)"
      ]
     },
     "execution_count": 6,
     "metadata": {},
     "output_type": "execute_result"
    }
   ],
   "source": [
    "micalines = src.data.load_mica_constraint()  # TODO get file\n",
    "\n",
    "superbursts = src.data.load_superbursts_polygon()\n",
    "superbursts1 = src.data.load_superbursts1_polygon()\n",
    "\n",
    "humanmass = src.data.humanmass\n",
    "humancross = src.data.humancross\n",
    "humanupper = src.data.humanupper\n",
    "\n",
    "DFNmass = src.data.DFNmass\n",
    "DFNcrosssection = src.data.DFNcrosssection\n",
    "DFNupper = src.data.DFNupper\n",
    "DFNfuturemass = src.data.DFNfuturemass\n",
    "DFNfuturecrosssection = src.data.DFNfuturecrosssection\n",
    "DFNfutureupper = src.data.DFNfutureupper\n",
    "\n",
    "WD = src.data.WD\n"
   ]
  },
  {
   "cell_type": "markdown",
   "metadata": {},
   "source": [
    "<br><br>\n",
    "\n",
    "- - - \n"
   ]
  },
  {
   "cell_type": "markdown",
   "metadata": {},
   "source": [
    "## Code"
   ]
  },
  {
   "cell_type": "code",
   "execution_count": 9,
   "metadata": {},
   "outputs": [],
   "source": [
    "Mhold=[]\n",
    "Shold=[]\n",
    "\n",
    "vbar=0.0\n",
    "f=0.0\n",
    "Vhold = 800.0 * u.km / u.s\n",
    "\n",
    "for vx, vz, vy in itertools.product(vels, vels, vels):  # why this order?\n",
    "    if qnorm(vx, vy, vz) > gc_v_ref:\n",
    "        a=1\n",
    "\n",
    "    else:\n",
    "        vrel = qnorm(v1_ref, vx, vy-vy_ref, vz)\n",
    "\n",
    "        const = np.power(v_step / macro_vel / np.sqrt(np.pi), 3)  # 3 dimensions\n",
    "        factor = const * np.exp(-(qnorm(vx, vy, vz) / macro_vel)**2)\n",
    "        vbar = vbar + vrel * factor  # problem? never reset vbar\n",
    "\n",
    "        Mx = 3 * vbar.to_value(v_unit) * 1e3  # TODO units\n",
    "\n",
    "        if Vhold < vrel:\n",
    "            vrel = Vhold\n",
    "        else:\n",
    "            vrel = qnorm(v1_ref, vx, vy-vy_ref, vz)\n",
    "\n",
    "        sigmax = 1e4 / (vrel.to_value(v_unit)*1e3)**2   # TODO internal units\n",
    "        if sigmax < ref_sigmax.to_value():\n",
    "            sigmax = ref_sigmax.to_value()\n",
    "\n",
    "        Mhold.append(Mx)\n",
    "        Shold.append(sigmax)\n",
    "\n",
    "        Vhold = vrel    # problem? never reset Vhold\n",
    "# /for\n",
    "\n",
    "Mhold = np.array(Mhold)\n",
    "Shold = np.array(Shold)"
   ]
  },
  {
   "cell_type": "code",
   "execution_count": 10,
   "metadata": {},
   "outputs": [
    {
     "data": {
      "text/plain": [
       "array([1.99964200e+01, 3.94819707e+01, 6.19022690e+01, ...,\n",
       "       9.85199571e+05, 9.85223375e+05, 9.85245292e+05])"
      ]
     },
     "execution_count": 10,
     "metadata": {},
     "output_type": "execute_result"
    }
   ],
   "source": [
    "Mhold"
   ]
  },
  {
   "cell_type": "code",
   "execution_count": 25,
   "metadata": {},
   "outputs": [
    {
     "data": {
      "text/plain": [
       "array([6.00000000e-08, 6.00000000e-08, 6.00000000e-08, 6.00000000e-08,\n",
       "       6.00000000e-08, 6.00000000e-08, 6.00000000e-08, 6.00000000e-08,\n",
       "       6.00000000e-08, 6.00000000e-08, 6.00000000e-08, 6.00000000e-08,\n",
       "       6.00000000e-08, 6.00000000e-08, 6.00000000e-08, 6.00000000e-08,\n",
       "       6.00000000e-08, 6.00000000e-08, 6.00000000e-08, 6.00000000e-08,\n",
       "       6.00000000e-08, 6.00000000e-08, 6.00000000e-08, 6.18152378e-08,\n",
       "       8.04683839e-08, 8.04683839e-08, 9.82584573e-08, 1.08965211e-07,\n",
       "       1.08965211e-07, 1.08965211e-07, 1.49762454e-07, 1.55587755e-07,\n",
       "       2.39392460e-07, 7.00652518e-07, 2.34059933e-06, 5.64203542e-06,\n",
       "       5.64203542e-06, 5.64203542e-06, 5.64203542e-06, 5.64203542e-06])"
      ]
     },
     "execution_count": 25,
     "metadata": {},
     "output_type": "execute_result"
    }
   ],
   "source": [
    "M = []\n",
    "S = []\n",
    "\n",
    "for k, i in itertools.product(range(1,10), range(1,10)):\n",
    "    sel = (i*10**k < Mhold) & (Mhold < (i+1)*10**k)\n",
    "    if sum(sel) > 0:\n",
    "        S.append(min(Shold[sel]))\n",
    "        M.append((2*i+1) * 10**k / 2)\n",
    "\n",
    "np.array(S)"
   ]
  },
  {
   "cell_type": "code",
   "execution_count": 30,
   "metadata": {},
   "outputs": [],
   "source": [
    "lightning = np.c_[M, S]  # Not used?"
   ]
  },
  {
   "cell_type": "code",
   "execution_count": 59,
   "metadata": {},
   "outputs": [
    {
     "name": "stdout",
     "output_type": "stream",
     "text": [
      "[6.0e-04 2.5e+04 3.5e+04 5.5e+04 7.5e+04 9.5e+04 1.5e+05 2.5e+05 3.5e+05\n",
      " 4.5e+05 9.5e+05]\n",
      "[6.0e-08 2.5e+00 3.5e+00 5.5e+00 7.5e+00 9.5e+00 1.5e+01 2.5e+01 3.5e+01\n",
      " 4.5e+01 9.5e+01]\n",
      "[6.00000000e-08 6.06917228e-08 8.34545741e-08 9.36872264e-08\n",
      " 1.13439391e-07 1.47850373e-07 1.55744531e-07 2.39380626e-07\n",
      " 7.00654185e-07 2.34059918e-06 5.64203542e-06]\n"
     ]
    }
   ],
   "source": [
    "lightning = np.array([\n",
    "    [25000.0, 6.18152378393819e-08], \n",
    "    [35000.0, 8.046838393171901e-08],\n",
    "    [55000.0, 9.825845727737015e-08], \n",
    "    [75000.0, 1.0896521078611754e-07],  \n",
    "    [95000.0, 1.4976245428313878e-07],\n",
    "    [150000.0, 1.555877553058925e-07],\n",
    "    [250000.0, 2.3939246023870776e-07], \n",
    "    [350000.0, 7.006525176897245e-07],\n",
    "    [450000.0, 2.3405993338654298e-06],  \n",
    "    [950000.0, 5.6420354206983716e-06]\n",
    "])\n",
    "\n",
    "z = np.polyfit(lightning[:, 0], lightning[:, 1], 8)\n",
    "p = np.poly1d(z)\n",
    "\n",
    "sigmalightning=[]\n",
    "# for j in range(len(lightning)):\n",
    "for x, y in lightning:\n",
    "    test = (\n",
    "        z[8]\n",
    "        + z[7]*x\n",
    "        + z[6]*x**2\n",
    "        + z[5]*x**3\n",
    "        + z[4]*x**4\n",
    "        + z[3]*x**5\n",
    "        + z[2]*x**6\n",
    "        + z[1]*x**7\n",
    "        + z[0]*x**8\n",
    "    )\n",
    "    sigmalightning.append(test)\n",
    "    delta = ((test - y) / y) * 100\n",
    "\n",
    "masslightning = []\n",
    "upperlightning = []\n",
    "\n",
    "for x in lightning[:, 0]:\n",
    "    masslightning.append(x)\n",
    "    upperlightning.append(x * 10**-4)\n",
    "\n",
    "masslightning.insert(0,6*10**-4)\n",
    "sigmalightning.insert(0, 6*10**-8)\n",
    "upperlightning.insert(0, 6*10**-8)\n",
    "\n",
    "masslightning = np.array(masslightning)\n",
    "upperlightning = np.array(upperlightning)\n",
    "sigmalightning = np.array(sigmalightning)\n",
    "\n",
    "print(masslightning, upperlightning, sigmalightning, sep=\"\\n\")"
   ]
  },
  {
   "cell_type": "code",
   "execution_count": 61,
   "metadata": {},
   "outputs": [
    {
     "name": "stdout",
     "output_type": "stream",
     "text": [
      "[1.2e+00 5.0e+07 7.0e+07 1.1e+08 1.5e+08 1.9e+08 3.0e+08 5.0e+08 7.0e+08\n",
      " 9.0e+08 1.9e+09]\n",
      "[1.2e-04 5.0e+03 7.0e+03 1.1e+04 1.5e+04 1.9e+04 3.0e+04 5.0e+04 7.0e+04\n",
      " 9.0e+04 1.9e+05]\n"
     ]
    }
   ],
   "source": [
    "jupitermasslightning = masslightning[:] * 2000.0\n",
    "uppersigmalightningjupiter = jupitermasslightning[:] * 10**-4\n",
    "\n",
    "print(jupitermasslightning, uppersigmalightningjupiter, sep=\"\\n\")"
   ]
  },
  {
   "cell_type": "code",
   "execution_count": 72,
   "metadata": {},
   "outputs": [
    {
     "data": {
      "text/latex": [
       "$[550,~500,~450,~400,~350,~300,~250,~200,~150,~100,~50,~0,~-50,~-100,~-150,~-200,~-250,~-300,~-350,~-400,~-450,~-500] \\; \\mathrm{\\frac{km}{s}}$"
      ],
      "text/plain": [
       "<Quantity [ 550.,  500.,  450.,  400.,  350.,  300.,  250.,  200.,  150.,\n",
       "            100.,   50.,    0.,  -50., -100., -150., -200., -250., -300.,\n",
       "           -350., -400., -450., -500.] km / s>"
      ]
     },
     "execution_count": 72,
     "metadata": {},
     "output_type": "execute_result"
    },
    {
     "data": {
      "text/plain": [
       "array([2.22182445e+05, 4.38688564e+05, 6.87802989e+05, ...,\n",
       "       1.09466619e+10, 1.09469264e+10, 1.09471699e+10])"
      ]
     },
     "execution_count": 72,
     "metadata": {},
     "output_type": "execute_result"
    }
   ],
   "source": [
    "# Mhold=[]\n",
    "# Shold=[]\n",
    "\n",
    "# vbar=0.0\n",
    "# f=0.0\n",
    "# Vhold=800.0 * u.km / u.s\n",
    "\n",
    "# for vx, vz, vy in itertools.product(vels, vels, vels):  # why this order?\n",
    "#     if qnorm(vx, vy, vz) > gc_v_ref:\n",
    "#         a = 1\n",
    "\n",
    "#     else:\n",
    "#         vrel = qnorm(v1_ref, vx, vy-vy_ref, vz)\n",
    "\n",
    "#         const = np.power(v_step / macro_vel / np.sqrt(np.pi), 3)  # 3 dimensions\n",
    "#         factor = const * np.exp(-(qnorm(vx, vy, vz) / macro_vel)**2)\n",
    "#         vbar = vbar + vrel * factor  # problem? never reset vbar\n",
    "\n",
    "#         Mx = 1e5*vbar.to_value(v_unit)*1000/3  # TODO units\n",
    "\n",
    "#         if Vhold<vrel:\n",
    "#             vrel = Vhold\n",
    "#         else:\n",
    "#             vrel = qnorm(v1_ref, vx, vy-vy_ref, vz)\n",
    "        \n",
    "#         const = np.power(v_step / macro_vel / np.sqrt(np.pi), 3)  # 3 dimensions\n",
    "#         factor = const * np.exp(-(qnorm(vx, vy, vz) / macro_vel)**2)\n",
    "#         f = f + vrel * factor  # problem? never used\n",
    "        \n",
    "#         sigmax=(1e-10*(250/vrel.to_value(v_unit))**7)**(1/3)   # TODO internal units\n",
    "\n",
    "#         Mhold.append(Mx)\n",
    "#         Shold.append(sigmax)\n",
    "#         Vhold=vrel\n",
    "# # /for\n",
    "\n",
    "# Mhold = np.array(Mhold)\n",
    "# Shold = np.array(Shold)\n",
    "# Mhold"
   ]
  },
  {
   "cell_type": "code",
   "execution_count": 75,
   "metadata": {},
   "outputs": [
    {
     "data": {
      "text/plain": [
       "array([2.22182445e+05, 4.38688564e+05, 6.87802989e+05, ...,\n",
       "       9.34974331e+09, 9.35000781e+09, 9.35025133e+09])"
      ]
     },
     "execution_count": 75,
     "metadata": {},
     "output_type": "execute_result"
    }
   ],
   "source": [
    "Mhold=[]\n",
    "Shold=[]\n",
    "\n",
    "vbar=0.0\n",
    "f=0.0\n",
    "Vhold = 800.0\n",
    "\n",
    "for i in range(0,22):\n",
    "    vx=550.0-i*50.0\n",
    "    for j in range(0,22):\n",
    "        vz=550.0-j*50.0\n",
    "        for k in range(0,22):\n",
    "            vy=550.0-k*50.0  #this is in the Galactic rest frame\n",
    "            \n",
    "            if (np.sqrt(vx**2+vy**2+vz**2)>550.0):\n",
    "                pass\n",
    "\n",
    "            elif(np.sqrt(42.1**2+vx**2+vz**2+(vy-200.0)**2)>250.0):\n",
    "                vrel=np.sqrt(42.1**2+vx**2+vz**2+(vy-200.0)**2)\n",
    "                vbar=vbar+(vrel)*np.exp(-(vx**2+vy**2+vz**2)/(250.0**2))*(50.0**3)/(np.pi*250.0**2)**1.5\n",
    "                Mx=10**5*vbar*1000/3\n",
    "\n",
    "                if Vhold<vrel:\n",
    "                    vrel=Vhold\n",
    "                else:\n",
    "                    vrel=np.sqrt(42.1**2+vx**2+vz**2+(vy-200.0)**2)\n",
    "\n",
    "                f=f+np.exp(-(vx**2+vy**2+vz**2)/(250.0**2))*(50.0**3)/(np.pi*250.0**2)**1.5\n",
    "\n",
    "                sigmax=(10**-10*(250/vrel)**7)**(1/3)\n",
    "\n",
    "                Mhold.append(Mx)\n",
    "                Shold.append(sigmax)\n",
    "                Vhold=vrel\n",
    "                \n",
    "Mhold = np.array(Mhold)\n",
    "Shold = np.array(Shold)\n",
    "Mhold"
   ]
  },
  {
   "cell_type": "code",
   "execution_count": 83,
   "metadata": {},
   "outputs": [
    {
     "data": {
      "text/plain": [
       "array([6.34075195e-05, 7.39435960e-05, 7.39435960e-05, 7.39435960e-05,\n",
       "       8.17931170e-05, 8.17931170e-05, 8.72868532e-05, 8.72868532e-05,\n",
       "       8.72868532e-05, 9.02978842e-05, 9.02978842e-05, 9.13448065e-05,\n",
       "       9.13448065e-05, 9.46251397e-05, 1.10255278e-04, 1.14934920e-04,\n",
       "       1.16577666e-04, 1.16577666e-04, 1.16577666e-04, 1.18264557e-04,\n",
       "       1.53039953e-04, 2.03390727e-04, 2.08172255e-04, 2.08172255e-04,\n",
       "       2.87350071e-04, 2.96503070e-04, 2.96503070e-04, 4.29698127e-04,\n",
       "       4.49260261e-04, 4.49260261e-04, 4.49260261e-04, 4.49260261e-04,\n",
       "       4.49260261e-04, 4.49260261e-04, 4.49260261e-04])"
      ]
     },
     "execution_count": 83,
     "metadata": {},
     "output_type": "execute_result"
    }
   ],
   "source": [
    "M = []\n",
    "S = []\n",
    "\n",
    "for k, i in itertools.product(range(5,15), range(1,9)):\n",
    "    sel = (i*10**k < Mhold) & (Mhold < (i+1)*10**k)\n",
    "    if sum(sel) > 0:\n",
    "        S.append(min(Shold[sel]))\n",
    "        M.append((2*i+1) * 10**k / 2)\n",
    "\n",
    "np.array(S)"
   ]
  },
  {
   "cell_type": "code",
   "execution_count": 93,
   "metadata": {},
   "outputs": [],
   "source": [
    "jovian = np.c_[\n",
    "    M + [8.5*1e9, 0.634, 250000.0],\n",
    "    S + [8.5*1e9*1e-4, 6.34075194929149e-05, 6.34075194929149e-05]\n",
    "]"
   ]
  },
  {
   "cell_type": "code",
   "execution_count": 95,
   "metadata": {},
   "outputs": [
    {
     "ename": "NameError",
     "evalue": "name 'micalines' is not defined",
     "output_type": "error",
     "traceback": [
      "\u001b[0;31m---------------------------------------------------------------------------\u001b[0m",
      "\u001b[0;31mNameError\u001b[0m                                 Traceback (most recent call last)",
      "\u001b[0;32m<ipython-input-95-56c5c76a09fc>\u001b[0m in \u001b[0;36m<module>\u001b[0;34m\u001b[0m\n\u001b[1;32m     54\u001b[0m \u001b[0;31m#each pair of lines is one constraint\u001b[0m\u001b[0;34m\u001b[0m\u001b[0;34m\u001b[0m\u001b[0;34m\u001b[0m\u001b[0m\n\u001b[1;32m     55\u001b[0m \u001b[0;34m\u001b[0m\u001b[0m\n\u001b[0;32m---> 56\u001b[0;31m \u001b[0mline3\u001b[0m \u001b[0;34m=\u001b[0m \u001b[0mplt\u001b[0m\u001b[0;34m.\u001b[0m\u001b[0mPolygon\u001b[0m\u001b[0;34m(\u001b[0m\u001b[0mmicalines\u001b[0m\u001b[0;34m,\u001b[0m \u001b[0mclosed\u001b[0m\u001b[0;34m=\u001b[0m\u001b[0;32mNone\u001b[0m\u001b[0;34m,\u001b[0m \u001b[0mfill\u001b[0m\u001b[0;34m=\u001b[0m\u001b[0;32mTrue\u001b[0m\u001b[0;34m,\u001b[0m \u001b[0mfacecolor\u001b[0m\u001b[0;34m=\u001b[0m\u001b[0;34m'yellow'\u001b[0m\u001b[0;34m,\u001b[0m \u001b[0medgecolor\u001b[0m\u001b[0;34m=\u001b[0m\u001b[0;34m'black'\u001b[0m\u001b[0;34m,\u001b[0m\u001b[0malpha\u001b[0m\u001b[0;34m=\u001b[0m\u001b[0;36m0.8\u001b[0m\u001b[0;34m,\u001b[0m \u001b[0mhatch\u001b[0m\u001b[0;34m=\u001b[0m\u001b[0;34m\"|\"\u001b[0m\u001b[0;34m,\u001b[0m\u001b[0mlw\u001b[0m\u001b[0;34m=\u001b[0m\u001b[0;36m1\u001b[0m\u001b[0;34m,\u001b[0m\u001b[0mzorder\u001b[0m\u001b[0;34m=\u001b[0m\u001b[0;36m0\u001b[0m\u001b[0;34m)\u001b[0m\u001b[0;31m# edgecolor='r'\u001b[0m\u001b[0;34m\u001b[0m\u001b[0;34m\u001b[0m\u001b[0m\n\u001b[0m\u001b[1;32m     57\u001b[0m \u001b[0mplt\u001b[0m\u001b[0;34m.\u001b[0m\u001b[0mgca\u001b[0m\u001b[0;34m(\u001b[0m\u001b[0;34m)\u001b[0m\u001b[0;34m.\u001b[0m\u001b[0madd_line\u001b[0m\u001b[0;34m(\u001b[0m\u001b[0mline3\u001b[0m\u001b[0;34m)\u001b[0m \u001b[0;31m#e.g. only need to comment out this line (plt.gca()...)to remove mica constraints,\u001b[0m\u001b[0;34m\u001b[0m\u001b[0;34m\u001b[0m\u001b[0m\n\u001b[1;32m     58\u001b[0m \u001b[0;31m#but you can comment out both the above lines if you want\u001b[0m\u001b[0;34m\u001b[0m\u001b[0;34m\u001b[0m\u001b[0;34m\u001b[0m\u001b[0m\n",
      "\u001b[0;31mNameError\u001b[0m: name 'micalines' is not defined"
     ]
    },
    {
     "data": {
      "image/png": "[encoded data removed]",
      "text/plain": [
       "<Figure size 432x288 with 1 Axes>"
      ]
     },
     "metadata": {
      "image/png": {
       "height": 277,
       "width": 420
      },
      "needs_background": "light"
     },
     "output_type": "display_data"
    }
   ],
   "source": [
    "def CMB(M):\n",
    "    f = 4.5e-7 * M\n",
    "    return f\n",
    "\n",
    "#Nuclear Density\n",
    "def nuc(M):\n",
    "    f = PI*(3/(4*PI*3.6e14))**(2./3) *pow(M,2./3)\n",
    "    return f\n",
    "\n",
    "#Black Holes\n",
    "def BH(M):\n",
    "    f = PI*(3e5)**2 *(M/(2e33))**2\n",
    "    return f\n",
    "\n",
    "#Atomic Density\n",
    "def atom(M):\n",
    "    f = PI*(3/(4*PI*1*10**0))**(2./3) *pow(M,2./3)\n",
    "    return f\n",
    "\n",
    "def KeplerTop(M):\n",
    "    f = 1e-6*M\n",
    "    return f\n",
    "\n",
    "def LMCTop(M):\n",
    "    f = 1e-4*M\n",
    "    return f\n",
    "\n",
    "M1=np.logspace(1,25)\n",
    "MMica = np.logspace(-10, 2.204)# for M_max=160g\n",
    "MMica1 = np.logspace(-12,1.43,num=1000)#  2.204 for M_max=160g  1.74 for M_max = 55g  1.43 for M_max=27.5g\n",
    "MMica2 = np.logspace(1.43,1.74,num=1000)\n",
    "Mmicro = np.logspace(23.0,28.0)\n",
    "\n",
    "#Define Plot\n",
    "fig = plt.figure()\n",
    "ax = fig.add_subplot(111)\n",
    "\n",
    "#X-axis\n",
    "ax.set_xlabel('$M_\\t{X}$ [g]',fontsize=18)\n",
    "ax.set_xlim([M1.min(),M1.max()])\n",
    "\n",
    "#Y-axis\n",
    "ymin=10**-15#nuc(M1).min()#10**(-15)\n",
    "ymax=float(10**25)#nuc(M1).max()#10**15\n",
    "ax.set_ylim([ymin,ymax])\n",
    "ax.set_ylabel('$\\sigma_\\t{X}$ [cm$^{2}$]',fontsize=18)\n",
    "\n",
    "#Make Plot\n",
    "ax.loglog(M1, atom(M1), 'k', markersize=4, color='k',lw=1,label='Atomic density',zorder=0)\n",
    "ax.loglog(M1, nuc(M1), 'k', markersize=4, color='g',lw=2,label='Nuclear density',zorder=0)\n",
    "ax.loglog(M1, BH(M1), 'k', markersize=4, color='m',lw=3,label='Black holes',zorder=3)\n",
    "\n",
    "#commenting out lines below here will remove some exclusion regions\n",
    "#each pair of lines is one constraint\n",
    "\n",
    "line3 = plt.Polygon(micalines, closed=None, fill=True, facecolor='yellow', edgecolor='black',alpha=0.8, hatch=\"|\",lw=1,zorder=0)# edgecolor='r'\n",
    "plt.gca().add_line(line3) #e.g. only need to comment out this line (plt.gca()...)to remove mica constraints,\n",
    "#but you can comment out both the above lines if you want\n",
    "\n",
    "lineWD = plt.Polygon(WD, closed=None, fill=True, facecolor='blue', edgecolor='black',alpha=0.6, hatch=\"\",lw=1,zorder=2)# edgecolor='r'\n",
    "plt.gca().add_line(lineWD)\n",
    "\n",
    "plt.fill_between(M1, CMB(M1),ymax,where=None, color='grey',edgecolor='black',hatch=\"\",alpha=.7,zorder=1)#SIDM ,alpha=.5\n",
    "\n",
    "linen = plt.Polygon(superbursts, closed=None, fill=True, facecolor='purple', edgecolor='black',alpha=0.6, hatch=\"\",lw=1,zorder=5)# edgecolor='r'\n",
    "plt.gca().add_line(linen)\n",
    "\n",
    "# linelightning = plt.Polygon(lightning, closed=None, fill=True, facecolor='cyan', edgecolor='black',alpha=1, hatch=\"\",lw=1,zorder=4)# edgecolor='r'\n",
    "# plt.gca().add_line(linelightning)\n",
    "\n",
    "# linejovian = plt.Polygon(jovian, closed=None, fill=True, facecolor='none', edgecolor='black',alpha=1, hatch=\"+\",lw=1,zorder=3)# edgecolor='r'\n",
    "# plt.gca().add_line(linejovian)\n",
    "\n",
    "linen1 = plt.Polygon(superburst1, closed=None, fill=True, facecolor='purple', edgecolor='black',alpha=0.6, hatch=\"//\",lw=1,zorder=5)# edgecolor='r'\n",
    "plt.gca().add_line(linen1)\n",
    "\n",
    "plt.fill_between(masslightning,sigmalightning ,upperlightning,where=None, facecolor='none',edgecolor='black',hatch=\"//\",alpha=1.0,zorder=8)\n",
    "\n",
    "plt.fill_between(jupitermasslightning,sigmalightning ,uppersigmalightningjupiter,where=None, facecolor='none',edgecolor='cyan',hatch=\"//\",alpha=1.0,zorder=4)\n",
    "\n",
    "\n",
    "# plt.fill_between(humanmass,humancross ,humanupper,where=None, facecolor='red',edgecolor='black',hatch=\"\",alpha=1.0,zorder=5)\n",
    "plt.fill_between(humanmass,humancross ,humanupper,where=None, facecolor='red',edgecolor='black',hatch=\"\",alpha=1.0,zorder=5)\n",
    "plt.fill_between(DFNmass,DFNcrosssection ,DFNupper,where=None, facecolor='green',edgecolor='black',hatch=\"\",alpha=1.0,zorder=6)\n",
    "\n",
    "# comment out lines below to remove lensing constraints, each line is a constraint itself\n",
    "#unlike the above lines\n",
    "plt.fill_between(Mmicro, BH(Mmicro), LMCTop(Mmicro), where=None,facecolor='brown', edgecolor='black', hatch=\"/\",alpha=1,zorder=2) #BH ,label='BH',\n",
    "\n",
    "\n",
    "plt.fill_between(M1, ymin, BH(M1), where=None,color='1', edgecolor='', hatch=\"+\",alpha=1,zorder=2) #BH ,label='BH',\n",
    "\n",
    "leghumans = Rectangle((0, 0), 1, 1, fc='purple',edgecolor='black', hatch=\"\",alpha=0.6)\n",
    "legbol = Rectangle((0, 0), 1, 1, fc=\"purple\",edgecolor='black', hatch=\"/\",alpha=0.6)\n",
    "legbol2 = Rectangle((0, 0), 1, 1, fc='none',edgecolor='green', hatch=\"+\",alpha=0.6)\n",
    "legfluo = Rectangle((0, 0), 1, 1, fc=\"none\",edgecolor='blue', hatch=\"//\",alpha=1)\n",
    "leggranite= Rectangle((0, 0), 1, 1, fc=\"none\",edgecolor='purple', alpha=1,hatch=\"\\ \")\n",
    "\n",
    "leg = ax.legend(loc='upper left', shadow=True)\n",
    "ax.grid(True)\n",
    "plt.tight_layout()\n",
    "plt.savefig('lightningconstraints.pdf')\n",
    "\n",
    "plt.show();"
   ]
  },
  {
   "cell_type": "markdown",
   "metadata": {},
   "source": [
    "<br><br>\n",
    "\n",
    "- - - \n",
    "\n",
    "<span style='font-size:40px;font-weight:650'>\n",
    "    END\n",
    "</span>"
   ]
  },
  {
   "cell_type": "code",
   "execution_count": null,
   "metadata": {},
   "outputs": [],
   "source": []
  }
 ],
 "metadata": {
  "kernelspec": {
   "display_name": "Python 3",
   "language": "python",
   "name": "python3"
  },
  "language_info": {
   "codemirror_mode": {
    "name": "ipython",
    "version": 3
   },
   "file_extension": ".py",
   "mimetype": "text/x-python",
   "name": "python",
   "nbconvert_exporter": "python",
   "pygments_lexer": "ipython3",
   "version": "3.8.2"
  }
 },
 "nbformat": 4,
 "nbformat_minor": 4
}
